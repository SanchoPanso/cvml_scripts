{
 "cells": [
  {
   "cell_type": "code",
   "execution_count": 1,
   "metadata": {},
   "outputs": [
    {
     "name": "stdout",
     "output_type": "stream",
     "text": [
      "Jupyter environment detected. Enabling Open3D WebVisualizer.\n",
      "[Open3D INFO] WebRTC GUI backend enabled.\n",
      "[Open3D INFO] WebRTCWindowSystem: HTTP handshake server disabled.\n"
     ]
    }
   ],
   "source": [
    "import os\n",
    "import numpy as np\n",
    "import cv2\n",
    "import glob\n",
    "import open3d as o3d"
   ]
  },
  {
   "cell_type": "code",
   "execution_count": 5,
   "metadata": {},
   "outputs": [],
   "source": [
    "target_points = np.load('../target_points.npy')\n",
    "target_bottom_points = np.load('../target_bottom_points.npy')\n",
    "background_points = np.load('../background_points.npy')"
   ]
  },
  {
   "cell_type": "code",
   "execution_count": 8,
   "metadata": {},
   "outputs": [
    {
     "name": "stdout",
     "output_type": "stream",
     "text": [
      "[Open3D WARNING] GLFW Error: WGL: Failed to make context current: Неверный дескриптор. \n",
      "[Open3D WARNING] GLFW Error: WGL: Failed to make context current: Требуемая операция преобразования не поддерживается. \n",
      "[Open3D WARNING] GLFW Error: WGL: Failed to make context current: Неверный дескриптор. \n",
      "[Open3D WARNING] GLFW Error: WGL: Failed to make context current: Неверный дескриптор. \n",
      "[Open3D WARNING] GLFW Error: WGL: Failed to make context current: Неверный дескриптор. \n",
      "[Open3D WARNING] GLFW Error: WGL: Failed to make context current: Требуемая операция преобразования не поддерживается. \n",
      "[Open3D WARNING] GLFW Error: WGL: Failed to make context current: Неверный дескриптор. \n",
      "[Open3D WARNING] GLFW Error: WGL: Failed to make context current: Требуемая операция преобразования не поддерживается. \n",
      "[Open3D WARNING] GLFW Error: WGL: Failed to make context current: Требуемая операция преобразования не поддерживается. \n",
      "[Open3D WARNING] GLFW Error: WGL: Failed to make context current: Требуемая операция преобразования не поддерживается. \n",
      "[Open3D WARNING] GLFW Error: WGL: Failed to make context current: Требуемая операция преобразования не поддерживается. \n",
      "[Open3D WARNING] GLFW Error: WGL: Failed to make context current: Требуемая операция преобразования не поддерживается. \n",
      "[Open3D WARNING] GLFW Error: WGL: Failed to make context current: Неверный дескриптор. \n"
     ]
    }
   ],
   "source": [
    "target_pcd = o3d.geometry.PointCloud()\n",
    "background_pcd = o3d.geometry.PointCloud()\n",
    "target_bottom_pcd = o3d.geometry.PointCloud()\n",
    "\n",
    "target_pcd.points = o3d.utility.Vector3dVector(target_points)\n",
    "target_pcd.paint_uniform_color([1, 0, 0])\n",
    "\n",
    "target_bottom_pcd.points = o3d.utility.Vector3dVector(target_bottom_points)\n",
    "target_bottom_pcd.paint_uniform_color([1, 1, 0])\n",
    "\n",
    "background_pcd.points = o3d.utility.Vector3dVector(background_points)\n",
    "colors = np.zeros(background_points.shape, dtype='float32')\n",
    "colors[:, 1] = (background_points[:, 2] - background_points[:, 2].min()) / (background_points[:, 2].max() - background_points[:, 2].min())\n",
    "colors[:, 2] = 1 - colors[:, 1]\n",
    "background_pcd.colors = o3d.utility.Vector3dVector(colors)\n",
    "\n",
    "# povs_pcd.points = o3d.utility.Vector3dVector(povs)\n",
    "# povs_pcd.paint_uniform_color([1, 1, 0])\n",
    "\n",
    "o3d.visualization.draw_geometries([target_pcd, background_pcd, target_bottom_pcd])"
   ]
  }
 ],
 "metadata": {
  "kernelspec": {
   "display_name": "tmk",
   "language": "python",
   "name": "python3"
  },
  "language_info": {
   "codemirror_mode": {
    "name": "ipython",
    "version": 3
   },
   "file_extension": ".py",
   "mimetype": "text/x-python",
   "name": "python",
   "nbconvert_exporter": "python",
   "pygments_lexer": "ipython3",
   "version": "3.10.8"
  },
  "orig_nbformat": 4
 },
 "nbformat": 4,
 "nbformat_minor": 2
}
