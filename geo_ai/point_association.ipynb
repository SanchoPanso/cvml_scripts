{
 "cells": [
  {
   "cell_type": "code",
   "execution_count": 1,
   "metadata": {},
   "outputs": [
    {
     "name": "stdout",
     "output_type": "stream",
     "text": [
      "Jupyter environment detected. Enabling Open3D WebVisualizer.\n",
      "[Open3D INFO] WebRTC GUI backend enabled.\n",
      "[Open3D INFO] WebRTCWindowSystem: HTTP handshake server disabled.\n"
     ]
    }
   ],
   "source": [
    "import numpy as np\n",
    "import laspy\n",
    "import open3d as o3d\n",
    "import cv2\n",
    "from matplotlib import pyplot as plt\n",
    "import pandas as pd\n",
    "from sklearn.neighbors import KDTree"
   ]
  },
  {
   "cell_type": "code",
   "execution_count": 2,
   "metadata": {},
   "outputs": [],
   "source": [
    "def cart2sph(points: np.ndarray) -> np.ndarray:\n",
    "    \"\"\"Converts a cartesian coordinate (x, y, z) into a spherical one (radius, theta, phi).\"\"\"\n",
    "    points = points.astype('float32')\n",
    "    x, y, z = points[:, 0], points[:, 1], points[:, 2]  \n",
    "    radius = np.sqrt(x**2 + y**2 + z**2)\n",
    "    theta = np.arctan2(np.sqrt(x*x + y*y), z)\n",
    "    phi = np.arctan2(y, x)\n",
    "    \n",
    "    return np.concatenate([[radius], [theta], [phi]], axis=0).T\n",
    "\n",
    "def sph2cart(points: np.ndarray) -> np.ndarray:\n",
    "    \"\"\"Converts a spherical coordinate (radius, theta, phi) into a cartesian one (x, y, z).\"\"\"\n",
    "    points = points.astype('float32')\n",
    "    radius, theta, phi = points[:, 0], points[:, 1], points[:, 2]    \n",
    "    x = radius * np.cos(phi) * np.sin(theta)\n",
    "    y = radius * np.sin(phi) * np.sin(theta)\n",
    "    z = radius * np.cos(theta)\n",
    "    \n",
    "    return np.concatenate([[x], [y], [z]], axis=0).T"
   ]
  },
  {
   "cell_type": "code",
   "execution_count": 3,
   "metadata": {},
   "outputs": [],
   "source": [
    "intrinsic = np.array(\n",
    "    [\n",
    "        [1024, 0, 1024],\n",
    "        [0, 1024, 1024],\n",
    "        [0,    0,    1],\n",
    "    ],\n",
    "    dtype='float32'\n",
    ")\n",
    "\n",
    "extrinsic = np.array(\n",
    "    [\n",
    "        [-6.9262244e-02, -9.9737304e-01,  2.1206183e-02,  1.2928122e+05],\n",
    "        [ 8.4582595e-03, -2.1843584e-02, -9.9972564e-01,  8.3126572e+03],\n",
    "        [ 9.9756265e-01, -6.9063872e-02,  9.9489763e-03,  8.1891594e+05],\n",
    "        [ 0.0000000e+00,  0.0000000e+00,  0.0000000e+00,  1.0000000e+00],\n",
    "    ],\n",
    "    dtype='float32'\n",
    ")"
   ]
  },
  {
   "cell_type": "code",
   "execution_count": 4,
   "metadata": {},
   "outputs": [],
   "source": [
    "pcd = o3d.geometry.PointCloud()\n",
    "\n",
    "points = np.load('down_pcd_points.npy')\n",
    "colors = np.load('down_pcd_colors.npy')\n",
    "\n",
    "pcd = o3d.geometry.PointCloud()\n",
    "pcd.points = o3d.utility.Vector3dVector(points)\n",
    "\n",
    "camera = np.linalg.inv(extrinsic)[:3, 3]\n",
    "radius = 50*1000*1000\n",
    "\n",
    "_, pt_map = pcd.hidden_point_removal(camera, radius)\n",
    "\n",
    "pcd_sel = pcd.select_by_index(pt_map)\n",
    "points = np.asarray(pcd_sel.points)"
   ]
  },
  {
   "cell_type": "code",
   "execution_count": 5,
   "metadata": {},
   "outputs": [
    {
     "data": {
      "text/plain": [
       "array([[   5145.23658995,   29362.29688361,  369361.16085169],\n",
       "       [  40191.17364323,   27406.60058255, -209580.75908499],\n",
       "       [ -71266.72661482, -116996.19262455, -120881.36839939],\n",
       "       ...,\n",
       "       [-985400.81164631, -195832.85834135,  221181.36308113],\n",
       "       [-985533.97888745, -195690.43424139,  228188.01288498],\n",
       "       [-985815.28923331, -195613.35060038,  241156.98713096]])"
      ]
     },
     "execution_count": 5,
     "metadata": {},
     "output_type": "execute_result"
    }
   ],
   "source": [
    "points_cam = cv2.perspectiveTransform(points.reshape(-1, 1, 3), extrinsic).reshape(-1, 3)\n",
    "points_cam"
   ]
  },
  {
   "cell_type": "code",
   "execution_count": 6,
   "metadata": {},
   "outputs": [
    {
     "name": "stdout",
     "output_type": "stream",
     "text": [
      "13934\n",
      "5974\n"
     ]
    }
   ],
   "source": [
    "print(len(points_cam))\n",
    "visibility_mask = points_cam[:, 2] > 0\n",
    "visible_points_cam = points_cam[visibility_mask]\n",
    "print(len(visible_points_cam))"
   ]
  },
  {
   "cell_type": "code",
   "execution_count": 7,
   "metadata": {},
   "outputs": [
    {
     "data": {
      "text/plain": [
       "array([[      1038,       1105],\n",
       "       [       880,        776],\n",
       "       [       855,        673],\n",
       "       ...,\n",
       "       [4294963758,        117],\n",
       "       [4294963898,        145],\n",
       "       [4294964135,        193]], dtype=uint32)"
      ]
     },
     "execution_count": 7,
     "metadata": {},
     "output_type": "execute_result"
    }
   ],
   "source": [
    "image_points, jacobian = cv2.projectPoints(\n",
    "    visible_points_cam.reshape(-1, 1, 3),\n",
    "    np.zeros((1, 3), dtype='float32'),\n",
    "    np.zeros((1, 3), dtype='float32'),\n",
    "    intrinsic,\n",
    "    None,\n",
    ")\n",
    "image_points = image_points.reshape(-1, 2)\n",
    "image_points = image_points.astype('uint32')\n",
    "image_points "
   ]
  },
  {
   "cell_type": "code",
   "execution_count": 8,
   "metadata": {},
   "outputs": [
    {
     "data": {
      "image/png": "[encoded data removed]",
      "text/plain": [
       "<Figure size 640x480 with 1 Axes>"
      ]
     },
     "metadata": {},
     "output_type": "display_data"
    }
   ],
   "source": [
    "# image_mask = np.zeros((2048, 2048), dtype='uint8')\n",
    "# cv2.circle(image_mask, (1024, 1500), 500, 255, -1)\n",
    "image_mask = cv2.imread('../mask_example.png', cv2.IMREAD_GRAYSCALE)\n",
    "plt.imshow(image_mask, 'gray')\n",
    "plt.show()"
   ]
  },
  {
   "cell_type": "code",
   "execution_count": 9,
   "metadata": {},
   "outputs": [
    {
     "data": {
      "text/plain": [
       "array([[1038, 1105],\n",
       "       [ 880,  776],\n",
       "       [ 855,  673],\n",
       "       ...,\n",
       "       [2035, 1088],\n",
       "       [2023, 1093],\n",
       "       [ 427,  988]], dtype=uint32)"
      ]
     },
     "execution_count": 9,
     "metadata": {},
     "output_type": "execute_result"
    }
   ],
   "source": [
    "bounding_mask = (image_points[:, 0] < 2048) & (image_points[:, 1] < 2048)\n",
    "image_points_in_bounds = image_points[bounding_mask]\n",
    "\n",
    "image_points_in_bounds"
   ]
  },
  {
   "cell_type": "code",
   "execution_count": 10,
   "metadata": {},
   "outputs": [
    {
     "data": {
      "text/plain": [
       "(3867,)"
      ]
     },
     "execution_count": 10,
     "metadata": {},
     "output_type": "execute_result"
    }
   ],
   "source": [
    "target_mask = image_mask[image_points_in_bounds[:, 1], image_points_in_bounds[:, 0]] == 255\n",
    "target_mask.shape"
   ]
  },
  {
   "cell_type": "code",
   "execution_count": 11,
   "metadata": {},
   "outputs": [
    {
     "data": {
      "text/plain": [
       "1131"
      ]
     },
     "execution_count": 11,
     "metadata": {},
     "output_type": "execute_result"
    }
   ],
   "source": [
    "pt_ids = np.arange(len(points))\n",
    "\n",
    "common_target_mask = visibility_mask.copy()\n",
    "common_target_mask[common_target_mask] = bounding_mask\n",
    "common_target_mask[common_target_mask] = target_mask\n",
    "\n",
    "# pt_ids = pt_ids[visibility_mask]\n",
    "# pt_ids = pt_ids[bounding_mask]\n",
    "# pt_ids = pt_ids[target_mask]\n",
    "\n",
    "target_pt_ids = pt_ids[common_target_mask]\n",
    "background_pt_ids = pt_ids[~common_target_mask]\n",
    "len(target_pt_ids)"
   ]
  },
  {
   "cell_type": "code",
   "execution_count": 12,
   "metadata": {},
   "outputs": [
    {
     "name": "stdout",
     "output_type": "stream",
     "text": [
      "[Open3D WARNING] GLFW Error: WGL: Failed to make context current: Неверный дескриптор. \n",
      "[Open3D WARNING] GLFW Error: WGL: Failed to make context current: Требуемая операция преобразования не поддерживается. \n",
      "[Open3D WARNING] GLFW Error: WGL: Failed to make context current: Требуемая операция преобразования не поддерживается. \n",
      "[Open3D WARNING] GLFW Error: WGL: Failed to make context current: Неверный дескриптор. \n"
     ]
    }
   ],
   "source": [
    "target_points = points[target_pt_ids]\n",
    "background_points = points[background_pt_ids]\n",
    "\n",
    "target_pcd = o3d.geometry.PointCloud()\n",
    "background_pcd = o3d.geometry.PointCloud()\n",
    "\n",
    "target_pcd.points = o3d.utility.Vector3dVector(target_points)\n",
    "target_pcd.paint_uniform_color([1, 1, 0])\n",
    "\n",
    "background_pcd.points = o3d.utility.Vector3dVector(background_points)\n",
    "background_pcd.paint_uniform_color([0, 0, 1])\n",
    "\n",
    "o3d.visualization.draw_geometries([target_pcd, background_pcd])"
   ]
  }
 ],
 "metadata": {
  "kernelspec": {
   "display_name": "tmk",
   "language": "python",
   "name": "python3"
  },
  "language_info": {
   "codemirror_mode": {
    "name": "ipython",
    "version": 3
   },
   "file_extension": ".py",
   "mimetype": "text/x-python",
   "name": "python",
   "nbconvert_exporter": "python",
   "pygments_lexer": "ipython3",
   "version": "3.10.8"
  },
  "orig_nbformat": 4
 },
 "nbformat": 4,
 "nbformat_minor": 2
}
